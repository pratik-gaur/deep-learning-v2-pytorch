{
 "cells": [
  {
   "cell_type": "markdown",
   "metadata": {},
   "source": [
    "# Neural networks with PyTorch\n",
    "\n",
    "Deep learning networks tend to be massive with dozens or hundreds of layers, that's where the term \"deep\" comes from. You can build one of these deep networks using only weight matrices as we did in the previous notebook, but in general it's very cumbersome and difficult to implement. PyTorch has a nice module `nn` that provides a nice way to efficiently build large neural networks."
   ]
  },
  {
   "cell_type": "code",
   "execution_count": 1,
   "metadata": {},
   "outputs": [],
   "source": [
    "# Import necessary packages\n",
    "\n",
    "%matplotlib inline\n",
    "%config InlineBackend.figure_format = 'retina'\n",
    "\n",
    "import numpy as np\n",
    "import torch\n",
    "\n",
    "import helper\n",
    "\n",
    "import matplotlib.pyplot as plt"
   ]
  },
  {
   "cell_type": "markdown",
   "metadata": {},
   "source": [
    "\n",
    "Now we're going to build a larger network that can solve a (formerly) difficult problem, identifying text in an image. Here we'll use the MNIST dataset which consists of greyscale handwritten digits. Each image is 28x28 pixels, you can see a sample below\n",
    "\n",
    "<img src='assets/mnist.png'>\n",
    "\n",
    "Our goal is to build a neural network that can take one of these images and predict the digit in the image.\n",
    "\n",
    "First up, we need to get our dataset. This is provided through the `torchvision` package. The code below will download the MNIST dataset, then create training and test datasets for us. Don't worry too much about the details here, you'll learn more about this later."
   ]
  },
  {
   "cell_type": "code",
   "execution_count": 7,
   "metadata": {},
   "outputs": [
    {
     "name": "stdout",
     "output_type": "stream",
     "text": [
      "--2021-03-24 14:46:56--  https://activeeon-public.s3.eu-west-2.amazonaws.com/datasets/MNIST.old.tar.gz\n",
      "Resolving activeeon-public.s3.eu-west-2.amazonaws.com (activeeon-public.s3.eu-west-2.amazonaws.com)... 52.95.149.122\n",
      "Connecting to activeeon-public.s3.eu-west-2.amazonaws.com (activeeon-public.s3.eu-west-2.amazonaws.com)|52.95.149.122|:443... connected.\n",
      "HTTP request sent, awaiting response... 200 OK\n",
      "Length: 23212732 (22M) [application/x-gzip]\n",
      "Saving to: ‘MNIST.tar.gz’\n",
      "\n",
      "MNIST.tar.gz        100%[===================>]  22.14M  6.34MB/s    in 3.6s    \n",
      "\n",
      "2021-03-24 14:47:00 (6.14 MB/s) - ‘MNIST.tar.gz’ saved [23212732/23212732]\n",
      "\n",
      "x MNIST/\n",
      "x MNIST/raw/\n",
      "x MNIST/raw/t10k-images-idx3-ubyte\n",
      "x MNIST/raw/train-images-idx3-ubyte\n",
      "x MNIST/raw/train-labels-idx1-ubyte\n",
      "x MNIST/raw/t10k-labels-idx1-ubyte\n",
      "x MNIST/processed/\n",
      "x MNIST/processed/test.pt\n",
      "x MNIST/processed/training.pt\n"
     ]
    }
   ],
   "source": [
    "### Run this cell\n",
    "\n",
    "from torchvision import datasets, transforms\n",
    "\n",
    "# Define a transform to normalize the data\n",
    "transform = transforms.Compose([transforms.ToTensor(),\n",
    "                              transforms.Normalize((0.5,), (0.5,)),\n",
    "                              ])\n",
    "\n",
    "# Download and load the training data\n",
    "\n",
    "!wget -O MNIST.tar.gz https://activeeon-public.s3.eu-west-2.amazonaws.com/datasets/MNIST.old.tar.gz\n",
    "!tar -zxvf MNIST.tar.gz\n",
    "# !mv MNIST/processed .\n",
    "# !mv MNIST/raw .\n"
   ]
  },
  {
   "cell_type": "markdown",
   "metadata": {},
   "source": [
    "We have the training data loaded into `trainloader` and we make that an iterator with `iter(trainloader)`. Later, we'll use this to loop through the dataset for training, like\n",
    "\n",
    "```python\n",
    "for image, label in trainloader:\n",
    "    ## do things with images and labels\n",
    "```\n",
    "\n",
    "You'll notice I created the `trainloader` with a batch size of 64, and `shuffle=True`. The batch size is the number of images we get in one iteration from the data loader and pass through our network, often called a *batch*. And `shuffle=True` tells it to shuffle the dataset every time we start going through the data loader again. But here I'm just grabbing the first batch so we can check out the data. We can see below that `images` is just a tensor with size `(64, 1, 28, 28)`. So, 64 images per batch, 1 color channel, and 28x28 images."
   ]
  },
  {
   "cell_type": "code",
   "execution_count": 10,
   "metadata": {},
   "outputs": [],
   "source": [
    "trainset = datasets.MNIST('./', download=False, train=True, transform=transform)\n",
    "trainloader = torch.utils.data.DataLoader(trainset, batch_size=64, shuffle=True)"
   ]
  },
  {
   "cell_type": "code",
   "execution_count": 11,
   "metadata": {},
   "outputs": [
    {
     "name": "stdout",
     "output_type": "stream",
     "text": [
      "<class 'torch.Tensor'>\n",
      "torch.Size([64, 1, 28, 28])\n",
      "torch.Size([64])\n"
     ]
    }
   ],
   "source": [
    "dataiter = iter(trainloader)\n",
    "images, labels = dataiter.next()\n",
    "print(type(images))\n",
    "print(images.shape)\n",
    "print(labels.shape)"
   ]
  },
  {
   "cell_type": "markdown",
   "metadata": {},
   "source": [
    "This is what one of the images looks like. "
   ]
  },
  {
   "cell_type": "code",
   "execution_count": 13,
   "metadata": {},
   "outputs": [
    {
     "data": {
      "image/png": "[encoded data removed]",
      "text/plain": [
       "<Figure size 432x288 with 1 Axes>"
      ]
     },
     "metadata": {
      "image/png": {
       "height": 248,
       "width": 251
      },
      "needs_background": "light"
     },
     "output_type": "display_data"
    }
   ],
   "source": [
    "plt.imshow(images[1].numpy().squeeze(), cmap='Greys_r');"
   ]
  },
  {
   "cell_type": "markdown",
   "metadata": {},
   "source": [
    "First, let's try to build a simple network for this dataset using weight matrices and matrix multiplications. Then, we'll see how to do it using PyTorch's `nn` module which provides a much more convenient and powerful method for defining network architectures.\n",
    "\n",
    "The networks you've seen so far are called *fully-connected* or *dense* networks. Each unit in one layer is connected to each unit in the next layer. In fully-connected networks, the input to each layer must be a one-dimensional vector (which can be stacked into a 2D tensor as a batch of multiple examples). However, our images are 28x28 2D tensors, so we need to convert them into 1D vectors. Thinking about sizes, we need to convert the batch of images with shape `(64, 1, 28, 28)` to a have a shape of `(64, 784)`, 784 is 28 times 28. This is typically called *flattening*, we flattened the 2D images into 1D vectors.\n",
    "\n",
    "Previously you built a network with one output unit. Here we need 10 output units, one for each digit. We want our network to predict the digit shown in an image, so what we'll do is calculate probabilities that the image is of any one digit or class. This ends up being a discrete probability distribution over the classes (digits) that tells us the most likely class for the image. That means we need 10 output units for the 10 classes (digits). We'll see how to convert the network output into a probability distribution next.\n",
    "\n",
    "> **Exercise:** Flatten the batch of images `images`. Then build a multi-layer network with 784 input units, 256 hidden units, and 10 output units using random tensors for the weights and biases. For now, use a sigmoid activation for the hidden layer. Leave the output layer without an activation, we'll add one that gives us a probability distribution next."
   ]
  },
  {
   "cell_type": "code",
   "execution_count": 38,
   "metadata": {},
   "outputs": [
    {
     "name": "stdout",
     "output_type": "stream",
     "text": [
      "tensor([[-7.3553e+00, -6.7144e+00,  9.6207e-01, -1.8985e+01,  6.9403e+00,\n",
      "          9.1118e+00, -9.5450e+00,  3.9066e+00, -8.3013e+00, -9.0827e+00],\n",
      "        [-9.8826e+00, -1.1131e+01,  6.4059e-02, -1.2189e+00,  9.7384e+00,\n",
      "          4.8373e+00, -2.2895e+00, -3.1319e+00, -1.5041e+01,  5.7181e+00],\n",
      "        [-8.6492e+00, -8.3981e+00,  6.6346e+00, -1.2002e+01, -4.3694e+00,\n",
      "          9.7644e+00, -2.4733e+00,  7.0908e+00, -1.0350e+01, -6.4527e-01],\n",
      "        [-9.2391e+00, -8.0258e+00,  2.3947e-01, -5.3388e+00,  6.9469e+00,\n",
      "          6.5877e+00, -1.2983e+00,  1.2543e+00, -1.5265e+01, -8.8424e+00],\n",
      "        [-1.5195e+01, -1.4297e+01, -5.6446e+00, -9.8151e+00,  7.4817e+00,\n",
      "          1.5387e+00,  5.5125e-01,  6.6304e+00, -9.4287e+00, -2.5047e+00],\n",
      "        [-1.5461e+01, -1.2852e+01, -1.6597e+00, -1.6996e+01,  4.7612e+00,\n",
      "          1.4168e+01, -3.7998e+00, -4.2805e+00, -5.6753e+00, -7.5325e-01],\n",
      "        [-1.7263e+01, -7.0991e+00,  8.6692e-01, -1.1880e+01,  2.1922e+00,\n",
      "          7.4792e+00, -8.1996e+00,  4.8848e+00, -1.3528e+01, -5.6086e+00],\n",
      "        [-6.5295e+00, -1.6637e+01, -1.5572e+01, -1.0745e+01, -4.0685e+00,\n",
      "          1.1324e+01,  4.8669e+00,  6.3153e+00, -2.5223e+01,  6.0140e+00],\n",
      "        [-2.1209e+01, -7.8830e+00, -5.4044e+00, -1.2108e+01,  5.0495e+00,\n",
      "          5.9441e+00, -9.6207e+00,  1.0922e+01, -9.6549e+00, -2.6714e+00],\n",
      "        [-1.8269e+01, -1.9662e+01, -1.5370e+00, -8.8280e+00,  4.6673e+00,\n",
      "          8.8554e+00, -1.4580e+00, -3.2432e+00, -9.7839e+00, -1.3298e+00],\n",
      "        [-1.0075e+01,  3.9897e+00, -7.5006e+00, -9.3913e+00,  1.0050e+01,\n",
      "         -2.7189e+00, -1.3370e+01,  7.2170e+00, -1.1210e+01,  1.7669e+00],\n",
      "        [-1.5584e+01, -6.9590e-01,  2.1128e+00, -9.7041e+00,  5.5749e+00,\n",
      "          5.3720e+00, -4.3412e+00,  8.2032e+00, -1.4955e+01, -1.0880e+00],\n",
      "        [-7.5057e+00, -1.0232e+01,  8.9220e-01, -1.0018e+01,  1.3017e+01,\n",
      "          1.2024e+01, -1.0282e+01,  2.6547e+00, -8.3229e+00, -5.6938e+00],\n",
      "        [-1.5779e+01, -3.7101e+00, -1.5650e-02, -1.3169e+01,  3.6588e+00,\n",
      "          7.3787e+00, -1.4201e+01, -7.5768e+00, -1.1501e+01, -4.8599e+00],\n",
      "        [-9.5753e+00, -9.9593e+00, -7.9214e+00, -1.4859e+01, -5.5835e+00,\n",
      "          1.1301e+01, -1.5829e+01, -6.0826e+00, -1.7730e+01,  2.9766e+00],\n",
      "        [-1.6421e+01, -7.1979e+00,  9.9876e-01, -1.5417e+01,  7.7487e+00,\n",
      "          2.6680e+00, -5.4750e+00, -6.3671e-01, -1.3795e+01, -5.2486e+00],\n",
      "        [-1.0332e+01, -7.3462e-01,  8.5192e+00, -5.1490e+00,  1.3332e+01,\n",
      "          2.9613e+00, -1.1381e+01, -8.5236e+00, -1.5701e+01, -6.4576e+00],\n",
      "        [-1.3664e+01, -7.0902e+00, -3.8435e+00, -7.5215e+00,  3.9299e+00,\n",
      "          5.0736e+00, -1.2309e+01, -9.4999e-01, -5.5112e+00, -7.6008e-01],\n",
      "        [-2.3571e+01,  3.6737e+00, -1.7330e+00, -1.9597e+00,  3.8904e+00,\n",
      "          6.7217e+00, -1.7509e+01,  9.7620e+00, -1.1851e+01, -1.9222e+00],\n",
      "        [-2.0601e+01, -8.8330e+00, -7.6466e+00,  3.0075e+00,  1.3606e+01,\n",
      "          7.4376e+00,  3.8021e-01,  1.1026e+01, -1.1127e+01, -1.2146e+01],\n",
      "        [-1.6657e+01, -8.4048e+00,  1.9526e+00, -8.5970e-01,  3.9759e+00,\n",
      "          1.0004e+01, -1.0260e+01, -1.4632e+01, -4.3883e+00,  4.1808e+00],\n",
      "        [-1.1733e+00, -9.6343e+00, -1.9789e+00, -8.7478e+00,  9.4652e+00,\n",
      "          1.4733e+01, -4.1664e+00,  3.0932e+00, -1.3345e+01, -2.0336e+00],\n",
      "        [-1.2715e+01, -1.0396e+01, -4.6105e+00, -6.9576e+00,  7.7465e+00,\n",
      "          4.4687e+00, -5.1331e+00,  1.2086e+01, -1.4338e+01, -8.6368e+00],\n",
      "        [-1.0375e+01, -5.2656e+00,  8.8963e-01, -1.0823e+01,  2.2543e-01,\n",
      "         -2.4897e+00, -7.1016e+00,  7.3521e+00, -7.7669e+00, -8.4022e-01],\n",
      "        [-1.4867e+01,  6.4863e+00,  7.8508e+00, -2.3645e+00,  1.0961e+01,\n",
      "         -1.3095e+00,  8.7498e-01, -7.5025e-01, -7.9220e+00, -2.7955e+00],\n",
      "        [-1.9008e+01, -4.1220e+00,  3.1193e+00, -1.0556e+01,  6.2121e+00,\n",
      "         -1.6721e+00, -7.8110e+00, -1.3484e+00, -1.3265e+01,  5.7876e-01],\n",
      "        [-1.0178e+01,  4.5369e-01, -5.1240e+00, -1.2764e+01,  8.2321e+00,\n",
      "          4.2443e+00, -1.0455e+01,  5.7646e+00, -1.5346e+01, -6.9498e+00],\n",
      "        [-2.0250e+01, -1.2065e+01,  1.6587e+00, -1.0518e+01,  5.9988e+00,\n",
      "          1.1651e+01, -7.3716e+00, -7.5010e+00, -1.2664e+01, -3.4639e+00],\n",
      "        [-9.3516e+00, -8.7846e+00, -7.8326e+00, -1.5893e+01,  7.2698e+00,\n",
      "          2.1755e+00, -4.2990e+00,  6.3748e+00, -9.4541e+00, -7.7090e+00],\n",
      "        [-6.5044e+00, -5.7317e+00,  4.8706e-01, -1.5464e+01,  1.9473e+00,\n",
      "         -1.0598e+00, -4.3138e+00,  1.0391e+00, -1.5291e+01,  2.6729e+00],\n",
      "        [-1.4519e+01, -1.5144e+01, -8.5551e-01, -4.8090e-01,  6.4673e+00,\n",
      "          9.3493e+00,  1.7400e+00,  5.5891e-01, -1.0526e+01, -7.1692e+00],\n",
      "        [ 5.2697e-01, -6.1312e+00, -4.9932e+00, -1.3846e+01,  8.7101e+00,\n",
      "          6.1243e+00,  7.8433e+00,  7.1108e+00, -2.0408e+01, -4.3355e+00],\n",
      "        [-1.9007e+01, -4.0002e+00, -1.3329e+00, -1.1014e+01,  5.4801e+00,\n",
      "          6.1794e+00, -3.6387e+00,  2.9671e+00, -1.7678e+01,  1.1482e-02],\n",
      "        [-2.0307e+01, -6.4912e+00, -4.2976e+00, -1.3185e+01,  1.4946e+01,\n",
      "          1.5798e+01, -2.4246e+00,  8.0611e-01, -1.3212e+01, -6.9675e-01],\n",
      "        [-2.3676e+01, -1.0251e+01,  2.7832e-01, -9.7480e+00,  6.9293e+00,\n",
      "          6.6405e+00, -8.5818e+00,  4.7362e+00, -7.6699e+00, -6.9324e+00],\n",
      "        [-1.4904e+01, -5.3871e+00, -1.2638e+00, -2.8898e+00,  3.0044e+00,\n",
      "          4.5556e+00, -5.1067e-01,  7.8692e+00, -1.1868e+01,  1.7739e+00],\n",
      "        [-2.1600e+01, -6.6716e+00,  2.4189e+00, -1.2551e+01,  8.8328e+00,\n",
      "          7.5036e+00, -1.3762e+01,  4.2641e+00, -1.6419e+01,  5.0317e-01],\n",
      "        [-2.4654e+01, -5.8111e+00,  3.7322e+00, -8.1013e+00,  9.7958e+00,\n",
      "          4.7268e+00, -9.8349e-01,  3.6697e+00, -1.7527e+01,  3.4694e+00],\n",
      "        [-8.7316e+00, -9.2156e+00,  1.9949e+00, -5.0815e+00,  8.3898e+00,\n",
      "          9.0398e+00, -2.4352e+00,  2.9090e+00, -9.2258e+00, -9.7218e+00],\n",
      "        [-4.3982e+00, -1.1233e+01,  6.8595e-01, -1.6246e+01, -1.4875e+00,\n",
      "          5.9949e+00, -3.4585e+00,  1.4708e+01, -1.5154e+01, -2.6208e+00],\n",
      "        [-2.1311e+01, -8.2176e+00,  3.3673e+00, -3.2723e+00,  1.4257e+01,\n",
      "          1.1112e+01, -1.2489e+01,  1.2497e+01, -7.7244e+00, -1.8136e+00],\n",
      "        [-1.5241e+01, -9.9426e+00, -1.5005e+00, -6.4063e+00,  5.6487e+00,\n",
      "          3.3508e+00, -2.9430e+00,  9.1060e-01, -1.3679e+01, -3.1604e+00],\n",
      "        [-1.3111e+01, -6.0240e+00, -1.2038e-02, -1.7823e+01,  2.1528e-01,\n",
      "          4.7407e+00, -1.1944e+01, -3.8995e+00, -1.4258e+01, -6.5422e-01],\n",
      "        [-9.7104e+00, -5.0486e+00,  9.7937e+00, -1.3063e+01,  3.2337e+00,\n",
      "          5.0845e+00, -7.1112e-02, -7.1830e-01, -1.4348e+01,  2.1347e-01],\n",
      "        [-1.4043e+01, -9.3281e+00, -5.0195e+00, -1.1315e+01,  8.3876e+00,\n",
      "          6.2587e+00, -1.9800e+00,  1.1993e+00, -1.4932e+01, -6.6824e+00],\n",
      "        [-1.2802e+01, -1.0747e+01, -2.4938e+00, -7.3072e-01,  1.6937e+01,\n",
      "         -5.8413e-01, -7.5496e+00, -6.7968e+00, -6.1781e+00, -4.7365e+00],\n",
      "        [-1.6103e+01, -6.4095e+00, -6.0633e-01, -4.4901e-01, -2.7167e+00,\n",
      "          1.6944e+01, -5.6218e+00, -4.4138e+00, -1.9207e+01,  5.6621e+00],\n",
      "        [-8.7412e+00, -1.0361e+01, -4.4754e+00, -3.8430e+00,  1.2589e+01,\n",
      "          1.1085e+01, -1.3141e+00, -2.1914e+00, -1.6515e+01, -4.7018e+00],\n",
      "        [-1.4893e+01, -6.6570e+00, -3.8134e+00, -7.8636e+00,  1.0538e+01,\n",
      "         -3.0073e+00, -5.6366e+00, -3.9940e-02, -9.7421e+00, -5.5501e+00],\n",
      "        [-6.2591e+00, -9.8252e+00, -2.1801e+00, -5.8884e+00,  9.0665e+00,\n",
      "          1.3271e+01, -1.1393e+01, -4.0027e+00, -1.0756e+01, -4.3697e+00],\n",
      "        [-1.6665e+01, -1.3040e+01,  2.9814e+00, -2.1739e+01,  4.6695e+00,\n",
      "          7.8467e+00,  1.6196e+00,  1.1353e+01, -1.6770e+01, -9.3784e+00],\n",
      "        [-1.9580e+01, -6.1897e+00, -1.7148e+00, -5.1842e+00,  1.0880e+01,\n",
      "          9.5041e+00, -2.8434e+00,  4.9522e+00, -1.4095e+01, -5.9117e+00],\n",
      "        [-7.2199e+00, -5.9999e+00, -2.2910e-01, -3.8905e+00, -3.8321e+00,\n",
      "          1.1243e+01, -1.9543e+01, -3.4314e+00, -2.1275e+01,  3.5299e+00],\n",
      "        [-8.8791e+00, -1.4382e+01, -3.0706e+00, -1.8072e+01,  3.9687e+00,\n",
      "          1.4752e+01,  8.8048e+00, -3.7146e+00, -1.0356e+01, -5.2095e+00],\n",
      "        [-9.4284e+00, -7.5090e+00, -3.8006e+00, -1.2004e+01,  8.8462e+00,\n",
      "          6.0585e+00, -1.7918e+00,  5.3389e+00, -1.2005e+01, -1.1617e+00],\n",
      "        [-1.3355e+01, -3.8743e+00, -4.2559e+00,  1.4530e+00,  1.7510e+01,\n",
      "          3.4400e-01, -1.3280e+01,  1.0257e+00, -8.8166e+00, -8.4144e-01],\n",
      "        [-1.3429e+01, -1.9659e+00,  5.1645e+00, -6.9536e+00,  1.7055e+01,\n",
      "          2.8541e+00, -1.6963e+01,  6.4562e+00, -1.6780e+01, -6.8890e+00],\n",
      "        [-1.7647e+01, -1.0806e+01,  3.5008e-01, -2.2318e+01,  4.1738e-01,\n",
      "          9.4251e+00, -6.1465e+00, -1.2902e+00, -1.1472e+01, -3.6123e-01],\n",
      "        [-2.2977e+01,  3.9680e+00, -1.0099e+01, -7.6766e+00,  3.0905e+00,\n",
      "          2.1090e+00, -1.3380e+01,  1.0881e+00, -1.6177e+01, -2.9264e-02],\n",
      "        [-1.8337e+01, -1.1294e+01, -1.0007e+01, -1.5446e+01,  1.1183e+01,\n",
      "          7.7975e+00,  4.9303e+00,  7.3875e+00, -9.1887e+00, -5.4018e+00],\n",
      "        [-1.8687e+01, -6.7324e+00, -2.5553e+00, -2.9499e+00,  1.6893e+01,\n",
      "          7.4746e+00,  3.3241e+00, -1.0628e+00, -1.1737e+01, -9.7557e+00],\n",
      "        [-1.8908e+01, -1.0823e+01,  1.1922e+01,  3.1274e+00,  1.3525e+01,\n",
      "          1.7456e+01, -6.4023e+00, -1.3172e+00, -1.2614e+01,  6.6723e+00],\n",
      "        [-1.0466e+01, -5.3802e+00, -8.2349e+00, -5.1261e+00,  7.2860e+00,\n",
      "          3.3202e+00, -1.1327e+01,  3.7986e+00, -7.5764e+00, -4.9479e+00],\n",
      "        [-1.2770e+01, -5.3804e-01,  3.8718e+00, -1.2099e+01,  8.0378e+00,\n",
      "          5.2392e+00, -9.5621e+00,  6.8588e+00, -1.2655e+01, -8.9874e+00]])\n"
     ]
    }
   ],
   "source": [
    "## Your solution\n",
    "def activation(x):\n",
    "    return 1/(1+torch.exp(-x))\n",
    "\n",
    "torch.manual_seed(7) # Set the random seed so things are predictable\n",
    "\n",
    "inputs = images.view(64, 784)\n",
    "w1 = torch.randn(784, 256)\n",
    "w2 = torch.randn(256, 10)\n",
    "b1 = torch.randn(256)\n",
    "b2 = torch.randn(10)\n",
    "\n",
    "hidden = activation(torch.mm(inputs, w1) + b1)\n",
    "\n",
    "out = (torch.mm(hidden, w2) + b2) # output of your network, should have shape (64,10)\n",
    "\n",
    "print(out)"
   ]
  },
  {
   "cell_type": "markdown",
   "metadata": {},
   "source": [
    "Now we have 10 outputs for our network. We want to pass in an image to our network and get out a probability distribution over the classes that tells us the likely class(es) the image belongs to. Something that looks like this:\n",
    "<img src='assets/image_distribution.png' width=500px>\n",
    "\n",
    "Here we see that the probability for each class is roughly the same. This is representing an untrained network, it hasn't seen any data yet so it just returns a uniform distribution with equal probabilities for each class.\n",
    "\n",
    "To calculate this probability distribution, we often use the [**softmax** function](https://en.wikipedia.org/wiki/Softmax_function). Mathematically this looks like\n",
    "\n",
    "$$\n",
    "\\Large \\sigma(x_i) = \\cfrac{e^{x_i}}{\\sum_k^K{e^{x_k}}}\n",
    "$$\n",
    "\n",
    "What this does is squish each input $x_i$ between 0 and 1 and normalizes the values to give you a proper probability distribution where the probabilites sum up to one.\n",
    "\n",
    "> **Exercise:** Implement a function `softmax` that performs the softmax calculation and returns probability distributions for each example in the batch. Note that you'll need to pay attention to the shapes when doing this. If you have a tensor `a` with shape `(64, 10)` and a tensor `b` with shape `(64,)`, doing `a/b` will give you an error because PyTorch will try to do the division across the columns (called broadcasting) but you'll get a size mismatch. The way to think about this is for each of the 64 examples, you only want to divide by one value, the sum in the denominator. So you need `b` to have a shape of `(64, 1)`. This way PyTorch will divide the 10 values in each row of `a` by the one value in each row of `b`. Pay attention to how you take the sum as well. You'll need to define the `dim` keyword in `torch.sum`. Setting `dim=0` takes the sum across the rows while `dim=1` takes the sum across the columns."
   ]
  },
  {
   "cell_type": "code",
   "execution_count": 39,
   "metadata": {},
   "outputs": [
    {
     "name": "stdout",
     "output_type": "stream",
     "text": [
      "torch.Size([64, 10])\n",
      "tensor([[6.2992e-08, 1.1958e-07, 2.5792e-04, 5.6070e-13, 1.0181e-01, 8.9303e-01,\n",
      "         7.0524e-09, 4.9010e-03, 2.4460e-08, 1.1197e-08],\n",
      "        [2.9362e-09, 8.4281e-10, 6.1316e-05, 1.6998e-05, 9.7516e-01, 7.2540e-03,\n",
      "         5.8269e-06, 2.5095e-06, 1.6895e-11, 1.7503e-02],\n",
      "        [9.0503e-09, 1.1634e-08, 3.9295e-02, 3.1651e-10, 6.5368e-07, 8.9866e-01,\n",
      "         4.3536e-06, 6.2015e-02, 1.6524e-09, 2.7086e-05],\n",
      "        [5.4860e-08, 1.8459e-07, 7.1741e-04, 2.7110e-06, 5.8717e-01, 4.0998e-01,\n",
      "         1.5415e-04, 1.9793e-03, 1.3249e-10, 8.1574e-08],\n",
      "        [9.9165e-11, 2.4335e-10, 1.3926e-06, 2.1509e-08, 6.9905e-01, 1.8345e-03,\n",
      "         6.8338e-04, 2.9840e-01, 3.1654e-08, 3.2172e-05],\n",
      "        [1.3571e-13, 1.8433e-12, 1.3375e-07, 2.9233e-14, 8.2200e-05, 9.9992e-01,\n",
      "         1.5735e-08, 9.7298e-09, 2.4118e-09, 3.3110e-07],\n",
      "        [1.6626e-11, 4.3137e-07, 1.2429e-03, 3.6171e-09, 4.6776e-03, 9.2499e-01,\n",
      "         1.4352e-07, 6.9089e-02, 6.9636e-10, 1.9149e-06],\n",
      "        [1.7397e-08, 7.0913e-13, 2.0578e-12, 2.5692e-10, 2.0384e-07, 9.8699e-01,\n",
      "         1.5484e-03, 6.5904e-03, 1.3242e-16, 4.8759e-03],\n",
      "        [1.0999e-14, 6.7417e-09, 8.0396e-08, 9.8601e-11, 2.7879e-03, 6.8204e-03,\n",
      "         1.1861e-09, 9.9039e-01, 1.1462e-09, 1.2363e-06],\n",
      "        [1.6350e-12, 4.0601e-13, 3.0204e-05, 2.0588e-08, 1.4947e-02, 9.8495e-01,\n",
      "         3.2686e-05, 5.4834e-06, 7.9152e-09, 3.7155e-05],\n",
      "        [1.7132e-09, 2.1978e-03, 2.2481e-08, 3.3941e-09, 9.4215e-01, 2.6821e-06,\n",
      "         6.3521e-11, 5.5409e-02, 5.5076e-10, 2.3804e-04],\n",
      "        [4.1201e-11, 1.2042e-04, 1.9975e-03, 1.4740e-08, 6.3693e-02, 5.1996e-02,\n",
      "         3.1448e-06, 8.8211e-01, 7.7303e-11, 8.1363e-05],\n",
      "        [8.9143e-10, 5.8367e-11, 3.9558e-06, 7.2284e-11, 7.2975e-01, 2.7022e-01,\n",
      "         5.5509e-11, 2.3050e-05, 3.9370e-10, 5.4572e-09],\n",
      "        [8.5487e-11, 1.4912e-05, 5.9978e-04, 1.1634e-09, 2.3647e-02, 9.7573e-01,\n",
      "         4.1421e-10, 3.1206e-07, 6.1655e-09, 4.7222e-06],\n",
      "        [8.5801e-10, 5.8442e-10, 4.4852e-09, 4.3518e-12, 4.6464e-08, 9.9976e-01,\n",
      "         1.6504e-12, 2.8207e-08, 2.4659e-13, 2.4249e-04],\n",
      "        [3.1606e-11, 3.2024e-07, 1.1621e-03, 8.6306e-11, 9.9244e-01, 6.1687e-03,\n",
      "         1.7936e-06, 2.2645e-04, 4.3706e-10, 2.2494e-06],\n",
      "        [5.2401e-11, 7.7161e-07, 8.0589e-03, 9.3381e-09, 9.9191e-01, 3.1081e-05,\n",
      "         1.8349e-11, 3.1967e-10, 2.4403e-13, 2.5231e-09],\n",
      "        [5.4984e-09, 3.9391e-06, 1.0125e-04, 2.5590e-06, 2.4062e-01, 7.5521e-01,\n",
      "         2.1324e-08, 1.8283e-03, 1.9104e-05, 2.2107e-03],\n",
      "        [3.1720e-15, 2.1552e-03, 9.6699e-06, 7.7080e-06, 2.6767e-03, 4.5420e-02,\n",
      "         1.3612e-12, 9.4972e-01, 3.8998e-10, 8.0023e-06],\n",
      "        [1.2922e-15, 1.6679e-10, 5.4629e-10, 2.3144e-05, 9.2779e-01, 1.9427e-03,\n",
      "         1.6727e-06, 7.0245e-02, 1.6827e-11, 6.0736e-12],\n",
      "        [2.6225e-12, 1.0060e-08, 3.1681e-04, 1.9029e-05, 2.3960e-03, 9.9433e-01,\n",
      "         1.5729e-09, 1.9870e-11, 5.5846e-07, 2.9410e-03],\n",
      "        [1.2293e-07, 2.6007e-11, 5.4923e-08, 6.3103e-11, 5.1273e-03, 9.9486e-01,\n",
      "         6.1625e-09, 8.7612e-06, 6.3629e-13, 5.1999e-08],\n",
      "        [1.6714e-11, 1.7001e-10, 5.5322e-08, 5.2914e-09, 1.2867e-02, 4.8523e-04,\n",
      "         3.2804e-08, 9.8665e-01, 3.2983e-12, 9.8691e-10],\n",
      "        [1.9955e-08, 3.3039e-06, 1.5567e-03, 1.2754e-08, 8.0122e-04, 5.3040e-05,\n",
      "         5.2682e-07, 9.9731e-01, 2.7084e-07, 2.7602e-04],\n",
      "        [5.7471e-12, 1.0792e-02, 4.2237e-02, 1.5461e-06, 9.4692e-01, 4.4403e-06,\n",
      "         3.9458e-05, 7.7680e-06, 5.9656e-09, 1.0047e-06],\n",
      "        [1.0616e-11, 3.0961e-05, 4.3218e-02, 4.9738e-08, 9.5249e-01, 3.5875e-04,\n",
      "         7.7396e-07, 4.9590e-04, 3.3121e-09, 3.4067e-03],\n",
      "        [9.1598e-09, 3.7931e-04, 1.4343e-06, 6.8980e-10, 9.0600e-01, 1.6797e-02,\n",
      "         6.9374e-09, 7.6822e-02, 5.2153e-11, 2.3104e-07],\n",
      "        [1.3929e-14, 4.9964e-11, 4.5577e-05, 2.3461e-10, 3.4965e-03, 9.9646e-01,\n",
      "         5.4566e-09, 4.7943e-09, 2.7445e-11, 2.7165e-07],\n",
      "        [4.2728e-08, 7.5328e-08, 1.9518e-07, 6.1606e-11, 7.0685e-01, 4.3339e-03,\n",
      "         6.6838e-06, 2.8881e-01, 3.8568e-08, 2.2086e-07],\n",
      "        [5.6892e-05, 1.2321e-04, 6.1860e-02, 7.3135e-09, 2.6643e-01, 1.3171e-02,\n",
      "         5.0865e-04, 1.0744e-01, 8.6946e-09, 5.5041e-01],\n",
      "        [4.0764e-11, 2.1807e-11, 3.5004e-05, 5.0910e-05, 5.3009e-02, 9.4629e-01,\n",
      "         4.6919e-04, 1.4401e-04, 2.2101e-09, 6.3405e-08],\n",
      "        [1.6451e-04, 2.1113e-07, 6.5885e-07, 9.4236e-11, 5.8895e-01, 4.4370e-02,\n",
      "         2.4752e-01, 1.1899e-01, 1.3313e-13, 1.2718e-06],\n",
      "        [7.4850e-12, 2.4635e-05, 3.5479e-04, 2.2157e-08, 3.2270e-01, 6.4937e-01,\n",
      "         3.5364e-05, 2.6149e-02, 2.8263e-11, 1.3609e-03],\n",
      "        [1.4637e-16, 1.4635e-10, 1.3125e-09, 1.8134e-13, 2.9902e-01, 7.0098e-01,\n",
      "         8.5412e-09, 2.1607e-07, 1.7641e-13, 4.8075e-08],\n",
      "        [2.7436e-14, 1.8575e-08, 6.9429e-04, 3.0703e-08, 5.3704e-01, 4.0234e-01,\n",
      "         9.8548e-08, 5.9922e-02, 2.4529e-07, 5.1283e-07],\n",
      "        [1.2305e-10, 1.6712e-06, 1.0322e-04, 2.0305e-05, 7.3696e-03, 3.4761e-02,\n",
      "         2.1921e-04, 9.5537e-01, 2.5610e-09, 2.1528e-03],\n",
      "        [4.7519e-14, 1.4466e-07, 1.2832e-03, 4.0450e-10, 7.8312e-01, 2.0729e-01,\n",
      "         1.2046e-10, 8.1225e-03, 8.4515e-12, 1.8894e-04],\n",
      "        [1.0795e-15, 1.6465e-07, 2.2970e-03, 1.6671e-08, 9.8755e-01, 6.2102e-03,\n",
      "         2.0567e-05, 2.1580e-03, 1.3436e-12, 1.7662e-03],\n",
      "        [1.2552e-08, 7.7356e-09, 5.7167e-04, 4.8293e-07, 3.4231e-01, 6.5568e-01,\n",
      "         6.8103e-06, 1.4261e-03, 7.6565e-09, 4.6627e-09],\n",
      "        [5.0374e-09, 5.4164e-12, 8.1322e-07, 3.6045e-14, 9.2527e-08, 1.6438e-04,\n",
      "         1.2891e-08, 9.9983e-01, 1.0740e-13, 2.9794e-08],\n",
      "        [2.9393e-16, 1.4283e-10, 1.5348e-05, 2.0069e-08, 8.2300e-01, 3.5441e-02,\n",
      "         1.9936e-12, 1.4155e-01, 2.3390e-10, 8.6303e-08],\n",
      "        [7.6287e-10, 1.5251e-07, 7.0743e-04, 5.2374e-06, 9.0062e-01, 9.0481e-02,\n",
      "         1.6719e-04, 7.8849e-03, 3.6355e-09, 1.3452e-04],\n",
      "        [1.7250e-08, 2.0634e-05, 8.4243e-03, 1.5507e-10, 1.0574e-02, 9.7638e-01,\n",
      "         5.5395e-08, 1.7268e-04, 5.4803e-09, 4.4324e-03],\n",
      "        [3.3489e-09, 3.5440e-07, 9.8953e-01, 1.1714e-10, 1.4011e-03, 8.9175e-03,\n",
      "         5.1425e-05, 2.6922e-05, 3.2429e-11, 6.8355e-05],\n",
      "        [1.6188e-10, 1.8074e-08, 1.3436e-06, 2.4775e-09, 8.9305e-01, 1.0625e-01,\n",
      "         2.8073e-05, 6.7464e-04, 6.6559e-11, 2.5474e-07],\n",
      "        [1.2139e-13, 9.4781e-13, 3.6402e-09, 2.1224e-08, 1.0000e+00, 2.4575e-08,\n",
      "         2.3196e-11, 4.9245e-11, 9.1422e-11, 3.8649e-10],\n",
      "        [4.4457e-15, 7.2045e-11, 2.3871e-08, 2.7938e-08, 2.8929e-09, 9.9999e-01,\n",
      "         1.5838e-10, 5.3003e-10, 1.9945e-16, 1.2596e-05],\n",
      "        [4.4585e-10, 8.8229e-11, 3.1753e-08, 5.9765e-08, 8.1814e-01, 1.8186e-01,\n",
      "         7.4943e-07, 3.1171e-07, 1.8756e-13, 2.5321e-08],\n",
      "        [9.0290e-12, 3.4078e-08, 5.8539e-07, 1.0197e-08, 9.9997e-01, 1.3107e-06,\n",
      "         9.4542e-08, 2.5482e-05, 1.5583e-09, 1.0309e-07],\n",
      "        [3.2494e-09, 9.1852e-11, 1.9201e-07, 4.7077e-09, 1.4712e-02, 9.8529e-01,\n",
      "         1.9153e-11, 3.1027e-08, 3.6206e-11, 2.1497e-08],\n",
      "        [6.5840e-13, 2.4702e-11, 2.2429e-04, 4.1207e-15, 1.2132e-03, 2.9091e-02,\n",
      "         5.7461e-05, 9.6941e-01, 5.9302e-13, 9.6164e-10],\n",
      "        [4.7069e-14, 3.0773e-08, 2.7014e-06, 8.4110e-08, 7.9656e-01, 2.0131e-01,\n",
      "         8.7385e-07, 2.1234e-03, 1.1346e-11, 4.0634e-08],\n",
      "        [9.5825e-09, 3.2456e-08, 1.0412e-05, 2.6756e-07, 2.8364e-07, 9.9954e-01,\n",
      "         4.2627e-14, 4.2344e-07, 7.5417e-15, 4.4674e-04],\n",
      "        [5.4454e-11, 2.2200e-13, 1.8140e-08, 5.5393e-15, 2.0690e-05, 9.9737e-01,\n",
      "         2.6064e-03, 9.5271e-09, 1.2439e-11, 2.1366e-09],\n",
      "        [1.0602e-08, 7.2271e-08, 2.9476e-06, 8.0705e-10, 9.1608e-01, 5.6395e-02,\n",
      "         2.1974e-05, 2.7461e-02, 8.0609e-10, 4.1260e-05],\n",
      "        [3.9409e-14, 5.1654e-10, 3.5268e-10, 1.0634e-07, 1.0000e+00, 3.5082e-08,\n",
      "         4.2493e-14, 6.9365e-08, 3.6873e-12, 1.0722e-08],\n",
      "        [5.7648e-14, 5.4861e-09, 6.8537e-06, 3.7420e-11, 9.9997e-01, 6.8007e-07,\n",
      "         1.6835e-15, 2.4941e-05, 2.0209e-15, 3.9918e-11],\n",
      "        [1.7491e-12, 1.6351e-09, 1.1446e-04, 1.6366e-14, 1.2242e-04, 9.9968e-01,\n",
      "         1.7266e-07, 2.2195e-05, 8.4046e-10, 5.6198e-05],\n",
      "        [1.2058e-12, 6.0747e-01, 4.7216e-07, 5.3251e-06, 2.5261e-01, 9.4659e-02,\n",
      "         1.7766e-08, 3.4104e-02, 1.0833e-09, 1.1156e-02],\n",
      "        [1.4280e-13, 1.6361e-10, 5.9250e-10, 2.5717e-12, 9.4497e-01, 3.1984e-02,\n",
      "         1.8185e-03, 2.1227e-02, 1.3426e-09, 5.9230e-08],\n",
      "        [3.5269e-16, 5.4878e-11, 3.5768e-09, 2.4105e-09, 9.9992e-01, 8.1175e-05,\n",
      "         1.2790e-06, 1.5910e-08, 3.6815e-13, 2.6693e-12],\n",
      "        [1.5741e-16, 5.1103e-13, 3.8591e-03, 5.8478e-07, 1.9177e-02, 9.7694e-01,\n",
      "         4.2489e-11, 6.8659e-09, 8.5234e-14, 2.0253e-05],\n",
      "        [1.8591e-08, 3.0068e-06, 1.7312e-07, 3.8767e-06, 9.5279e-01, 1.8058e-02,\n",
      "         7.8620e-09, 2.9137e-02, 3.3443e-07, 4.6330e-06],\n",
      "        [6.6413e-10, 1.3626e-04, 1.1208e-02, 1.2983e-09, 7.2245e-01, 4.3993e-02,\n",
      "         1.6416e-08, 2.2221e-01, 7.4500e-10, 2.9165e-08]])\n",
      "tensor([1.0000, 1.0000, 1.0000, 1.0000, 1.0000, 1.0000, 1.0000, 1.0000, 1.0000,\n",
      "        1.0000, 1.0000, 1.0000, 1.0000, 1.0000, 1.0000, 1.0000, 1.0000, 1.0000,\n",
      "        1.0000, 1.0000, 1.0000, 1.0000, 1.0000, 1.0000, 1.0000, 1.0000, 1.0000,\n",
      "        1.0000, 1.0000, 1.0000, 1.0000, 1.0000, 1.0000, 1.0000, 1.0000, 1.0000,\n",
      "        1.0000, 1.0000, 1.0000, 1.0000, 1.0000, 1.0000, 1.0000, 1.0000, 1.0000,\n",
      "        1.0000, 1.0000, 1.0000, 1.0000, 1.0000, 1.0000, 1.0000, 1.0000, 1.0000,\n",
      "        1.0000, 1.0000, 1.0000, 1.0000, 1.0000, 1.0000, 1.0000, 1.0000, 1.0000,\n",
      "        1.0000])\n"
     ]
    }
   ],
   "source": [
    "def softmax(x):\n",
    "    return torch.exp(x)/torch.sum(torch.exp(x), dim=1).view(-1, 1)\n",
    "\n",
    "# Here, out should be the output of the network in the previous excercise with shape (64,10)\n",
    "probabilities = softmax(out)\n",
    "\n",
    "# Does it have the right shape? Should be (64, 10)\n",
    "print(probabilities.shape)\n",
    "# Does it sum to 1?\n",
    "print(probabilities)\n",
    "\n",
    "print(probabilities.sum(dim=1))"
   ]
  },
  {
   "cell_type": "markdown",
   "metadata": {},
   "source": [
    "## Building networks with PyTorch\n",
    "\n",
    "PyTorch provides a module `nn` that makes building networks much simpler. Here I'll show you how to build the same one as above with 784 inputs, 256 hidden units, 10 output units and a softmax output."
   ]
  },
  {
   "cell_type": "code",
   "execution_count": 40,
   "metadata": {},
   "outputs": [],
   "source": [
    "from torch import nn"
   ]
  },
  {
   "cell_type": "code",
   "execution_count": 41,
   "metadata": {},
   "outputs": [],
   "source": [
    "class Network(nn.Module):\n",
    "    def __init__(self):\n",
    "        super().__init__()\n",
    "        \n",
    "        # Inputs to hidden layer linear transformation\n",
    "        self.hidden = nn.Linear(784, 256)\n",
    "        # Output layer, 10 units - one for each digit\n",
    "        self.output = nn.Linear(256, 10)\n",
    "        \n",
    "        # Define sigmoid activation and softmax output \n",
    "        self.sigmoid = nn.Sigmoid()\n",
    "        self.softmax = nn.Softmax(dim=1)\n",
    "        \n",
    "    def forward(self, x):\n",
    "        # Pass the input tensor through each of our operations\n",
    "        x = self.hidden(x)\n",
    "        x = self.sigmoid(x)\n",
    "        x = self.output(x)\n",
    "        x = self.softmax(x)\n",
    "        \n",
    "        return x"
   ]
  },
  {
   "cell_type": "markdown",
   "metadata": {},
   "source": [
    "Let's go through this bit by bit.\n",
    "\n",
    "```python\n",
    "class Network(nn.Module):\n",
    "```\n",
    "\n",
    "Here we're inheriting from `nn.Module`. Combined with `super().__init__()` this creates a class that tracks the architecture and provides a lot of useful methods and attributes. It is mandatory to inherit from `nn.Module` when you're creating a class for your network. The name of the class itself can be anything.\n",
    "\n",
    "```python\n",
    "self.hidden = nn.Linear(784, 256)\n",
    "```\n",
    "\n",
    "This line creates a module for a linear transformation, $x\\mathbf{W} + b$, with 784 inputs and 256 outputs and assigns it to `self.hidden`. The module automatically creates the weight and bias tensors which we'll use in the `forward` method. You can access the weight and bias tensors once the network (`net`) is created with `net.hidden.weight` and `net.hidden.bias`.\n",
    "\n",
    "```python\n",
    "self.output = nn.Linear(256, 10)\n",
    "```\n",
    "\n",
    "Similarly, this creates another linear transformation with 256 inputs and 10 outputs.\n",
    "\n",
    "```python\n",
    "self.sigmoid = nn.Sigmoid()\n",
    "self.softmax = nn.Softmax(dim=1)\n",
    "```\n",
    "\n",
    "Here I defined operations for the sigmoid activation and softmax output. Setting `dim=1` in `nn.Softmax(dim=1)` calculates softmax across the columns.\n",
    "\n",
    "```python\n",
    "def forward(self, x):\n",
    "```\n",
    "\n",
    "PyTorch networks created with `nn.Module` must have a `forward` method defined. It takes in a tensor `x` and passes it through the operations you defined in the `__init__` method.\n",
    "\n",
    "```python\n",
    "x = self.hidden(x)\n",
    "x = self.sigmoid(x)\n",
    "x = self.output(x)\n",
    "x = self.softmax(x)\n",
    "```\n",
    "\n",
    "Here the input tensor `x` is passed through each operation and reassigned to `x`. We can see that the input tensor goes through the hidden layer, then a sigmoid function, then the output layer, and finally the softmax function. It doesn't matter what you name the variables here, as long as the inputs and outputs of the operations match the network architecture you want to build. The order in which you define things in the `__init__` method doesn't matter, but you'll need to sequence the operations correctly in the `forward` method.\n",
    "\n",
    "Now we can create a `Network` object."
   ]
  },
  {
   "cell_type": "code",
   "execution_count": 56,
   "metadata": {},
   "outputs": [
    {
     "data": {
      "text/plain": [
       "Network(\n",
       "  (fc1): Linear(in_features=784, out_features=128, bias=True)\n",
       "  (fc2): Linear(in_features=128, out_features=64, bias=True)\n",
       "  (output): Linear(in_features=64, out_features=10, bias=True)\n",
       ")"
      ]
     },
     "execution_count": 56,
     "metadata": {},
     "output_type": "execute_result"
    }
   ],
   "source": [
    "# Create the network and look at it's text representation\n",
    "model = Network()\n",
    "model"
   ]
  },
  {
   "cell_type": "markdown",
   "metadata": {},
   "source": [
    "You can define the network somewhat more concisely and clearly using the `torch.nn.functional` module. This is the most common way you'll see networks defined as many operations are simple element-wise functions. We normally import this module as `F`, `import torch.nn.functional as F`."
   ]
  },
  {
   "cell_type": "code",
   "execution_count": 53,
   "metadata": {},
   "outputs": [],
   "source": [
    "import torch.nn.functional as F\n",
    "\n",
    "class Network(nn.Module):\n",
    "    def __init__(self):\n",
    "        super().__init__()\n",
    "        # Inputs to hidden layer linear transformation\n",
    "        self.hidden = nn.Linear(784, 256)\n",
    "        # Output layer, 10 units - one for each digit\n",
    "        self.output = nn.Linear(256, 10)\n",
    "        \n",
    "    def forward(self, x):\n",
    "        # Hidden layer with sigmoid activation\n",
    "        x = F.sigmoid(self.hidden(x))\n",
    "        # Output layer with softmax activation\n",
    "        x = F.softmax(self.output(x), dim=1)\n",
    "        \n",
    "        return x"
   ]
  },
  {
   "cell_type": "markdown",
   "metadata": {},
   "source": [
    "### Activation functions\n",
    "\n",
    "So far we've only been looking at the sigmoid activation function, but in general any function can be used as an activation function. The only requirement is that for a network to approximate a non-linear function, the activation functions must be non-linear. Here are a few more examples of common activation functions: Tanh (hyperbolic tangent), and ReLU (rectified linear unit).\n",
    "\n",
    "<img src=\"assets/activation.png\" width=700px>\n",
    "\n",
    "In practice, the ReLU function is used almost exclusively as the activation function for hidden layers."
   ]
  },
  {
   "cell_type": "markdown",
   "metadata": {},
   "source": [
    "### Your Turn to Build a Network\n",
    "\n",
    "<img src=\"assets/mlp_mnist.png\" width=600px>\n",
    "\n",
    "> **Exercise:** Create a network with 784 input units, a hidden layer with 128 units and a ReLU activation, then a hidden layer with 64 units and a ReLU activation, and finally an output layer with a softmax activation as shown above. You can use a ReLU activation with the `nn.ReLU` module or `F.relu` function.\n",
    "\n",
    "It's good practice to name your layers by their type of network, for instance 'fc' to represent a fully-connected layer. As you code your solution, use `fc1`, `fc2`, and `fc3` as your layer names."
   ]
  },
  {
   "cell_type": "code",
   "execution_count": 57,
   "metadata": {
    "scrolled": true
   },
   "outputs": [
    {
     "data": {
      "text/plain": [
       "Network(\n",
       "  (fc1): Linear(in_features=784, out_features=128, bias=True)\n",
       "  (fc2): Linear(in_features=128, out_features=64, bias=True)\n",
       "  (output): Linear(in_features=64, out_features=10, bias=True)\n",
       ")"
      ]
     },
     "execution_count": 57,
     "metadata": {},
     "output_type": "execute_result"
    }
   ],
   "source": [
    "## Your solution here\n",
    "import torch.nn.functional as F\n",
    "\n",
    "class Network(nn.Module):\n",
    "    def __init__(self):\n",
    "        super().__init__()\n",
    "        # Inputs to hidden layer linear transformation\n",
    "        self.fc1 = nn.Linear(784, 128)\n",
    "        self.fc2 = nn.Linear(128, 64)\n",
    "        # Output layer, 10 units - one for each digit\n",
    "        self.output = nn.Linear(64, 10)\n",
    "        \n",
    "    def forward(self, x):\n",
    "        # Hidden layer with sigmoid activation\n",
    "        x = F.relu(self.fc1(x))\n",
    "        x = F.relu(self.fc2(x))\n",
    "        # Output layer with softmax activation\n",
    "        x = F.softmax(self.output(x), dim=1)\n",
    "        \n",
    "        return x\n",
    "    \n",
    "# Create the network and look at it's text representation\n",
    "model = Network()\n",
    "model"
   ]
  },
  {
   "cell_type": "markdown",
   "metadata": {},
   "source": [
    "### Initializing weights and biases\n",
    "\n",
    "The weights and such are automatically initialized for you, but it's possible to customize how they are initialized. The weights and biases are tensors attached to the layer you defined, you can get them with `model.fc1.weight` for instance."
   ]
  },
  {
   "cell_type": "code",
   "execution_count": 59,
   "metadata": {},
   "outputs": [
    {
     "name": "stdout",
     "output_type": "stream",
     "text": [
      "Parameter containing:\n",
      "tensor([[ 0.0101,  0.0024,  0.0208,  ..., -0.0308, -0.0074,  0.0158],\n",
      "        [ 0.0076, -0.0116,  0.0072,  ..., -0.0019, -0.0289,  0.0237],\n",
      "        [-0.0148,  0.0091,  0.0250,  ...,  0.0136,  0.0320, -0.0355],\n",
      "        ...,\n",
      "        [-0.0283, -0.0155, -0.0011,  ..., -0.0111, -0.0008,  0.0096],\n",
      "        [ 0.0097, -0.0267, -0.0010,  ...,  0.0208,  0.0110, -0.0203],\n",
      "        [-0.0242,  0.0203,  0.0091,  ..., -0.0022,  0.0122,  0.0195]],\n",
      "       requires_grad=True)\n",
      "Parameter containing:\n",
      "tensor([ 0.0210, -0.0254, -0.0059, -0.0146,  0.0212, -0.0054,  0.0351, -0.0349,\n",
      "         0.0033,  0.0102, -0.0188,  0.0046,  0.0107, -0.0107,  0.0215,  0.0105,\n",
      "         0.0141,  0.0071,  0.0005,  0.0202, -0.0192, -0.0298,  0.0279,  0.0336,\n",
      "        -0.0044, -0.0154,  0.0250,  0.0027,  0.0195,  0.0237,  0.0027,  0.0037,\n",
      "        -0.0313,  0.0193, -0.0204,  0.0344, -0.0111, -0.0182, -0.0214,  0.0220,\n",
      "         0.0346,  0.0268,  0.0269,  0.0118,  0.0248, -0.0239, -0.0244,  0.0282,\n",
      "         0.0219,  0.0301,  0.0284, -0.0150,  0.0080,  0.0154,  0.0210,  0.0109,\n",
      "         0.0189, -0.0010,  0.0067, -0.0247,  0.0276,  0.0022, -0.0055, -0.0299,\n",
      "        -0.0237, -0.0283, -0.0032, -0.0323, -0.0352,  0.0213,  0.0326, -0.0222,\n",
      "        -0.0251, -0.0133, -0.0296, -0.0309,  0.0011,  0.0331, -0.0194,  0.0243,\n",
      "         0.0293,  0.0240, -0.0128,  0.0319, -0.0044,  0.0228,  0.0224,  0.0091,\n",
      "         0.0052, -0.0032,  0.0119,  0.0059,  0.0218, -0.0081,  0.0246,  0.0168,\n",
      "        -0.0031,  0.0156,  0.0030, -0.0155, -0.0093, -0.0302, -0.0077, -0.0034,\n",
      "         0.0164, -0.0083,  0.0156, -0.0202,  0.0015,  0.0016,  0.0089, -0.0290,\n",
      "        -0.0306,  0.0088, -0.0350,  0.0245,  0.0007,  0.0337, -0.0055, -0.0134,\n",
      "        -0.0127, -0.0341, -0.0280, -0.0053,  0.0293, -0.0303,  0.0095,  0.0253],\n",
      "       requires_grad=True)\n"
     ]
    }
   ],
   "source": [
    "print(model.fc1.weight)\n",
    "print(model.fc1.bias)"
   ]
  },
  {
   "cell_type": "markdown",
   "metadata": {},
   "source": [
    "For custom initialization, we want to modify these tensors in place. These are actually autograd *Variables*, so we need to get back the actual tensors with `model.fc1.weight.data`. Once we have the tensors, we can fill them with zeros (for biases) or random normal values."
   ]
  },
  {
   "cell_type": "code",
   "execution_count": 60,
   "metadata": {},
   "outputs": [
    {
     "data": {
      "text/plain": [
       "tensor([0., 0., 0., 0., 0., 0., 0., 0., 0., 0., 0., 0., 0., 0., 0., 0., 0., 0., 0., 0., 0., 0., 0., 0.,\n",
       "        0., 0., 0., 0., 0., 0., 0., 0., 0., 0., 0., 0., 0., 0., 0., 0., 0., 0., 0., 0., 0., 0., 0., 0.,\n",
       "        0., 0., 0., 0., 0., 0., 0., 0., 0., 0., 0., 0., 0., 0., 0., 0., 0., 0., 0., 0., 0., 0., 0., 0.,\n",
       "        0., 0., 0., 0., 0., 0., 0., 0., 0., 0., 0., 0., 0., 0., 0., 0., 0., 0., 0., 0., 0., 0., 0., 0.,\n",
       "        0., 0., 0., 0., 0., 0., 0., 0., 0., 0., 0., 0., 0., 0., 0., 0., 0., 0., 0., 0., 0., 0., 0., 0.,\n",
       "        0., 0., 0., 0., 0., 0., 0., 0.])"
      ]
     },
     "execution_count": 60,
     "metadata": {},
     "output_type": "execute_result"
    }
   ],
   "source": [
    "# Set biases to all zeros\n",
    "model.fc1.bias.data.fill_(0)"
   ]
  },
  {
   "cell_type": "code",
   "execution_count": 61,
   "metadata": {},
   "outputs": [
    {
     "data": {
      "text/plain": [
       "tensor([[ 0.0172, -0.0011,  0.0100,  ...,  0.0006,  0.0151,  0.0076],\n",
       "        [-0.0032,  0.0082,  0.0107,  ...,  0.0123, -0.0112,  0.0135],\n",
       "        [-0.0010,  0.0029,  0.0005,  ...,  0.0038, -0.0130,  0.0060],\n",
       "        ...,\n",
       "        [ 0.0076, -0.0043, -0.0076,  ...,  0.0064, -0.0089, -0.0023],\n",
       "        [-0.0032, -0.0042, -0.0032,  ..., -0.0273, -0.0105, -0.0026],\n",
       "        [ 0.0161,  0.0178,  0.0021,  ..., -0.0130, -0.0054, -0.0086]])"
      ]
     },
     "execution_count": 61,
     "metadata": {},
     "output_type": "execute_result"
    }
   ],
   "source": [
    "# sample from random normal with standard dev = 0.01\n",
    "model.fc1.weight.data.normal_(std=0.01)"
   ]
  },
  {
   "cell_type": "markdown",
   "metadata": {},
   "source": [
    "### Forward pass\n",
    "\n",
    "Now that we have a network, let's see what happens when we pass in an image."
   ]
  },
  {
   "cell_type": "code",
   "execution_count": 65,
   "metadata": {},
   "outputs": [
    {
     "data": {
      "image/png": "[encoded data removed]",
      "text/plain": [
       "<Figure size 432x648 with 2 Axes>"
      ]
     },
     "metadata": {
      "image/png": {
       "height": 235,
       "width": 424
      },
      "needs_background": "light"
     },
     "output_type": "display_data"
    }
   ],
   "source": [
    "# Grab some data \n",
    "dataiter = iter(trainloader)\n",
    "images, labels = dataiter.next()\n",
    "\n",
    "# Resize images into a 1D vector, new shape is (batch size, color channels, image pixels) \n",
    "images.resize_(64, 1, 784)\n",
    "# or images.resize_(images.shape[0], 1, 784) to automatically get batch size\n",
    "\n",
    "# Forward pass through the network\n",
    "img_idx = 0\n",
    "ps = model.forward(images[img_idx,:])\n",
    "\n",
    "img = images[img_idx]\n",
    "helper.view_classify(img.view(1, 28, 28), ps)"
   ]
  },
  {
   "cell_type": "markdown",
   "metadata": {},
   "source": [
    "As you can see above, our network has basically no idea what this digit is. It's because we haven't trained it yet, all the weights are random!\n",
    "\n",
    "### Using `nn.Sequential`\n",
    "\n",
    "PyTorch provides a convenient way to build networks like this where a tensor is passed sequentially through operations, `nn.Sequential` ([documentation](https://pytorch.org/docs/master/nn.html#torch.nn.Sequential)). Using this to build the equivalent network:"
   ]
  },
  {
   "cell_type": "code",
   "execution_count": 66,
   "metadata": {},
   "outputs": [
    {
     "name": "stdout",
     "output_type": "stream",
     "text": [
      "Sequential(\n",
      "  (0): Linear(in_features=784, out_features=128, bias=True)\n",
      "  (1): ReLU()\n",
      "  (2): Linear(in_features=128, out_features=64, bias=True)\n",
      "  (3): ReLU()\n",
      "  (4): Linear(in_features=64, out_features=10, bias=True)\n",
      "  (5): Softmax(dim=1)\n",
      ")\n"
     ]
    },
    {
     "data": {
      "image/png": "[encoded data removed]",
      "text/plain": [
       "<Figure size 432x648 with 2 Axes>"
      ]
     },
     "metadata": {
      "image/png": {
       "height": 235,
       "width": 424
      },
      "needs_background": "light"
     },
     "output_type": "display_data"
    }
   ],
   "source": [
    "# Hyperparameters for our network\n",
    "input_size = 784\n",
    "hidden_sizes = [128, 64]\n",
    "output_size = 10\n",
    "\n",
    "# Build a feed-forward network\n",
    "model = nn.Sequential(nn.Linear(input_size, hidden_sizes[0]),\n",
    "                      nn.ReLU(),\n",
    "                      nn.Linear(hidden_sizes[0], hidden_sizes[1]),\n",
    "                      nn.ReLU(),\n",
    "                      nn.Linear(hidden_sizes[1], output_size),\n",
    "                      nn.Softmax(dim=1))\n",
    "print(model)\n",
    "\n",
    "# Forward pass through the network and display output\n",
    "images, labels = next(iter(trainloader))\n",
    "images.resize_(images.shape[0], 1, 784)\n",
    "ps = model.forward(images[0,:])\n",
    "helper.view_classify(images[0].view(1, 28, 28), ps)"
   ]
  },
  {
   "cell_type": "markdown",
   "metadata": {},
   "source": [
    "Here our model is the same as before: 784 input units, a hidden layer with 128 units, ReLU activation, 64 unit hidden layer, another ReLU, then the output layer with 10 units, and the softmax output.\n",
    "\n",
    "The operations are available by passing in the appropriate index. For example, if you want to get first Linear operation and look at the weights, you'd use `model[0]`."
   ]
  },
  {
   "cell_type": "code",
   "execution_count": 67,
   "metadata": {},
   "outputs": [
    {
     "name": "stdout",
     "output_type": "stream",
     "text": [
      "Linear(in_features=784, out_features=128, bias=True)\n"
     ]
    },
    {
     "data": {
      "text/plain": [
       "Parameter containing:\n",
       "tensor([[-0.0101, -0.0004, -0.0149,  ..., -0.0055, -0.0054,  0.0122],\n",
       "        [ 0.0262, -0.0222,  0.0267,  ...,  0.0154,  0.0149,  0.0162],\n",
       "        [-0.0217, -0.0193,  0.0004,  ...,  0.0282, -0.0051, -0.0226],\n",
       "        ...,\n",
       "        [-0.0163, -0.0054, -0.0189,  ..., -0.0090,  0.0348, -0.0206],\n",
       "        [ 0.0004, -0.0176,  0.0347,  ..., -0.0092,  0.0110, -0.0354],\n",
       "        [-0.0308, -0.0086, -0.0065,  ..., -0.0102,  0.0041,  0.0086]],\n",
       "       requires_grad=True)"
      ]
     },
     "execution_count": 67,
     "metadata": {},
     "output_type": "execute_result"
    }
   ],
   "source": [
    "print(model[0])\n",
    "model[0].weight"
   ]
  },
  {
   "cell_type": "markdown",
   "metadata": {},
   "source": [
    "You can also pass in an `OrderedDict` to name the individual layers and operations, instead of using incremental integers. Note that dictionary keys must be unique, so _each operation must have a different name_."
   ]
  },
  {
   "cell_type": "code",
   "execution_count": 68,
   "metadata": {},
   "outputs": [
    {
     "data": {
      "text/plain": [
       "Sequential(\n",
       "  (fc1): Linear(in_features=784, out_features=128, bias=True)\n",
       "  (relu1): ReLU()\n",
       "  (fc2): Linear(in_features=128, out_features=64, bias=True)\n",
       "  (relu2): ReLU()\n",
       "  (output): Linear(in_features=64, out_features=10, bias=True)\n",
       "  (softmax): Softmax(dim=1)\n",
       ")"
      ]
     },
     "execution_count": 68,
     "metadata": {},
     "output_type": "execute_result"
    }
   ],
   "source": [
    "from collections import OrderedDict\n",
    "model = nn.Sequential(OrderedDict([\n",
    "                      ('fc1', nn.Linear(input_size, hidden_sizes[0])),\n",
    "                      ('relu1', nn.ReLU()),\n",
    "                      ('fc2', nn.Linear(hidden_sizes[0], hidden_sizes[1])),\n",
    "                      ('relu2', nn.ReLU()),\n",
    "                      ('output', nn.Linear(hidden_sizes[1], output_size)),\n",
    "                      ('softmax', nn.Softmax(dim=1))]))\n",
    "model"
   ]
  },
  {
   "cell_type": "markdown",
   "metadata": {},
   "source": [
    "Now you can access layers either by integer or the name"
   ]
  },
  {
   "cell_type": "code",
   "execution_count": 69,
   "metadata": {},
   "outputs": [
    {
     "name": "stdout",
     "output_type": "stream",
     "text": [
      "Linear(in_features=784, out_features=128, bias=True)\n",
      "Linear(in_features=784, out_features=128, bias=True)\n"
     ]
    }
   ],
   "source": [
    "print(model[0])\n",
    "print(model.fc1)"
   ]
  },
  {
   "cell_type": "markdown",
   "metadata": {},
   "source": [
    "In the next notebook, we'll see how we can train a neural network to accuractly predict the numbers appearing in the MNIST images."
   ]
  }
 ],
 "metadata": {
  "kernelspec": {
   "display_name": "Python 3",
   "language": "python",
   "name": "python3"
  },
  "language_info": {
   "codemirror_mode": {
    "name": "ipython",
    "version": 3
   },
   "file_extension": ".py",
   "mimetype": "text/x-python",
   "name": "python",
   "nbconvert_exporter": "python",
   "pygments_lexer": "ipython3",
   "version": "3.8.5"
  }
 },
 "nbformat": 4,
 "nbformat_minor": 2
}
